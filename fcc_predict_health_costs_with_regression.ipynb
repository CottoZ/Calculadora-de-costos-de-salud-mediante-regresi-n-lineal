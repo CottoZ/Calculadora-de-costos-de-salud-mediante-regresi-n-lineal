{
  "cells": [
    {
      "cell_type": "code",
      "execution_count": null,
      "metadata": {
        "id": "1rRo8oNqZ-Rj"
      },
      "outputs": [],
      "source": [
        "# Import libraries. You may or may not use all of these.\n",
        "!pip install -q git+https://github.com/tensorflow/docs\n",
        "import matplotlib.pyplot as plt\n",
        "import numpy as np\n",
        "import pandas as pd\n",
        "\n",
        "try:\n",
        "  # %tensorflow_version only exists in Colab.\n",
        "  %tensorflow_version 2.x\n",
        "except Exception:\n",
        "  pass\n",
        "import tensorflow as tf\n",
        "\n",
        "from tensorflow import keras\n",
        "from tensorflow.keras import layers\n",
        "\n",
        "import tensorflow_docs as tfdocs\n",
        "import tensorflow_docs.plots\n",
        "import tensorflow_docs.modeling"
      ]
    },
    {
      "cell_type": "code",
      "execution_count": null,
      "metadata": {
        "id": "CiX2FI4gZtTt"
      },
      "outputs": [],
      "source": [
        "# Import data\n",
        "!wget https://cdn.freecodecamp.org/project-data/health-costs/insurance.csv\n",
        "dataset = pd.read_csv('insurance.csv')\n",
        "dataset.tail()"
      ]
    },
    {
      "cell_type": "code",
      "execution_count": null,
      "metadata": {
        "id": "LcopvQh3X-kX"
      },
      "outputs": [],
      "source": [
        "# Convertir las columnas categóricas a valores numéricos\n",
        "# Usamos el código de categoría para convertir las columnas categóricas en valores numéricos\n",
        "dataset['sex'] = dataset['sex'].astype('category').cat.codes\n",
        "dataset['smoker'] = dataset['smoker'].astype('category').cat.codes\n",
        "dataset['region'] = dataset['region'].astype('category').cat.codes\n",
        "\n",
        "# Verificamos cómo quedó el dataset después de convertir las columnas\n",
        "print(\"Dataset con columnas categóricas convertidas:\\n\", dataset.head())\n"
      ]
    },
    {
      "cell_type": "code",
      "source": [
        "# Dividir el dataset en datos de entrenamiento y prueba\n",
        "# Usamos un 80% de los datos para entrenamiento y un 20% para prueba\n",
        "train_dataset, test_dataset = np.split(dataset, [int(.8 * len(dataset))])\n",
        "\n",
        "# Imprimir el tamaño de los conjuntos de entrenamiento y prueba\n",
        "print(f\"Tamaño del conjunto de entrenamiento: {train_dataset.shape}\")\n",
        "print(f\"Tamaño del conjunto de prueba: {test_dataset.shape}\")\n",
        ""
      ],
      "metadata": {
        "id": "PglqsJ_m6u_3"
      },
      "execution_count": null,
      "outputs": []
    },
    {
      "cell_type": "code",
      "source": [
        "# Separar las etiquetas (gastos) de los datos\n",
        "train_labels = train_dataset.pop('expenses')\n",
        "test_labels = test_dataset.pop('expenses')\n",
        "\n",
        "# Verificamos que la columna 'expenses' haya sido eliminada correctamente\n",
        "print(\"Primeras filas del conjunto de entrenamiento después de eliminar 'expenses':\\n\", train_dataset.head())\n"
      ],
      "metadata": {
        "id": "FNKM_XQR6vNv"
      },
      "execution_count": null,
      "outputs": []
    },
    {
      "cell_type": "code",
      "source": [
        "# Normalizar los datos usando la capa de normalización de TensorFlow\n",
        "normalizer = layers.Normalization(axis=-1)\n",
        "normalizer.adapt(np.array(train_dataset))\n",
        "\n",
        "# Verificamos que la capa de normalización se haya creado correctamente\n",
        "print(\"Capa de normalización adaptada con éxito.\")\n"
      ],
      "metadata": {
        "id": "-nuV9nBb6vZP"
      },
      "execution_count": null,
      "outputs": []
    },
    {
      "cell_type": "code",
      "source": [
        "# Mostrar la capa de normalización\n",
        "normalizer\n"
      ],
      "metadata": {
        "id": "ih_E3ScQ6vkv"
      },
      "execution_count": null,
      "outputs": []
    },
    {
      "cell_type": "code",
      "source": [
        "# Crear el modelo de red neuronal\n",
        "model = keras.Sequential([\n",
        "    normalizer,\n",
        "    layers.Dense(64, activation='relu'),  # Capa oculta con 64 neuronas y activación ReLU\n",
        "    layers.Dense(32, activation='relu'),  # Capa oculta con 32 neuronas\n",
        "    layers.Dense(1)  # Capa de salida con una neurona para predecir los gastos\n",
        "])\n",
        "\n",
        "# Compilar el modelo\n",
        "model.compile(optimizer=keras.optimizers.Adam(learning_rate=0.01),\n",
        "              loss='mae',  # Error absoluto medio\n",
        "              metrics=['mae', 'mse'])\n",
        "\n",
        "# Ver la estructura del modelo\n",
        "model.summary()\n"
      ],
      "metadata": {
        "id": "kQafgxCN6vwn"
      },
      "execution_count": null,
      "outputs": []
    },
    {
      "cell_type": "code",
      "source": [
        "# Entrenar el modelo con los datos de entrenamiento\n",
        "history = model.fit(train_dataset, train_labels, epochs=100, validation_split=0.2)\n",
        "\n",
        "# Mostrar los resultados de la última época\n",
        "print(f\"Última época - Pérdida: {history.history['loss'][-1]}, MAE: {history.history['mae'][-1]}\")\n"
      ],
      "metadata": {
        "id": "s0phiiks6v7n"
      },
      "execution_count": null,
      "outputs": []
    },
    {
      "cell_type": "code",
      "execution_count": null,
      "metadata": {
        "id": "Xe7RXH3N3CWU"
      },
      "outputs": [],
      "source": [
        "# RUN THIS CELL TO TEST YOUR MODEL. DO NOT MODIFY CONTENTS.\n",
        "# Test model by checking how well the model generalizes using the test set.\n",
        "loss, mae, mse = model.evaluate(test_dataset, test_labels, verbose=2)\n",
        "\n",
        "print(\"Testing set Mean Abs Error: {:5.2f} expenses\".format(mae))\n",
        "\n",
        "if mae < 3500:\n",
        "  print(\"You passed the challenge. Great job!\")\n",
        "else:\n",
        "  print(\"The Mean Abs Error must be less than 3500. Keep trying.\")\n",
        "\n",
        "# Plot predictions.\n",
        "test_predictions = model.predict(test_dataset).flatten()\n",
        "\n",
        "a = plt.axes(aspect='equal')\n",
        "plt.scatter(test_labels, test_predictions)\n",
        "plt.xlabel('True values (expenses)')\n",
        "plt.ylabel('Predictions (expenses)')\n",
        "lims = [0, 50000]\n",
        "plt.xlim(lims)\n",
        "plt.ylim(lims)\n",
        "_ = plt.plot(lims,lims)\n"
      ]
    }
  ],
  "metadata": {
    "colab": {
      "name": "fcc_predict_health_costs_with_regression.ipynb",
      "private_outputs": true,
      "provenance": [],
      "toc_visible": true
    },
    "kernelspec": {
      "display_name": "Python 3",
      "name": "python3"
    }
  },
  "nbformat": 4,
  "nbformat_minor": 0
}